{
 "cells": [
  {
   "cell_type": "code",
   "execution_count": 10,
   "metadata": {
    "collapsed": true,
    "jupyter": {
     "outputs_hidden": true
    },
    "vscode": {
     "languageId": "plaintext"
    }
   },
   "outputs": [
    {
     "name": "stdout",
     "output_type": "stream",
     "text": [
      "Requirement already satisfied: torch==2.5.1 in /usr/local/lib/python3.10/dist-packages (from -r requirements.txt (line 1)) (2.5.1)\n",
      "Requirement already satisfied: torchvision in /usr/local/lib/python3.10/dist-packages (from -r requirements.txt (line 2)) (0.20.1)\n",
      "Collecting transformers==4.51.3 (from -r requirements.txt (line 3))\n",
      "  Downloading transformers-4.51.3-py3-none-any.whl.metadata (38 kB)\n",
      "Requirement already satisfied: accelerate==1.2.1 in /usr/local/lib/python3.10/dist-packages (from -r requirements.txt (line 4)) (1.2.1)\n",
      "Requirement already satisfied: sentencepiece==0.2.0 in /usr/local/lib/python3.10/dist-packages (from -r requirements.txt (line 5)) (0.2.0)\n",
      "Requirement already satisfied: pytorch-extension in /usr/local/lib/python3.10/dist-packages (from -r requirements.txt (line 6)) (0.2)\n",
      "Requirement already satisfied: opencv-python==4.8.0.74 in /usr/local/lib/python3.10/dist-packages (from -r requirements.txt (line 7)) (4.8.0.74)\n",
      "Requirement already satisfied: datasets in /usr/local/lib/python3.10/dist-packages (from -r requirements.txt (line 8)) (3.6.0)\n",
      "Requirement already satisfied: dataclasses in /usr/local/lib/python3.10/dist-packages (from -r requirements.txt (line 9)) (0.6)\n",
      "Requirement already satisfied: DateTime in /usr/local/lib/python3.10/dist-packages (from -r requirements.txt (line 10)) (5.5)\n",
      "Requirement already satisfied: typing in /usr/local/lib/python3.10/dist-packages (from -r requirements.txt (line 11)) (3.7.4.3)\n",
      "Requirement already satisfied: pillow in /usr/local/lib/python3.10/dist-packages (from -r requirements.txt (line 12)) (9.3.0)\n",
      "Requirement already satisfied: trl in /usr/local/lib/python3.10/dist-packages (from -r requirements.txt (line 13)) (0.17.0)\n",
      "Requirement already satisfied: peft in /usr/local/lib/python3.10/dist-packages (from -r requirements.txt (line 14)) (0.15.2)\n",
      "Requirement already satisfied: wandb in /usr/local/lib/python3.10/dist-packages (from -r requirements.txt (line 15)) (0.19.11)\n",
      "Requirement already satisfied: packaging in /usr/local/lib/python3.10/dist-packages (from -r requirements.txt (line 16)) (23.2)\n",
      "Requirement already satisfied: deepspeed in /usr/local/lib/python3.10/dist-packages (from -r requirements.txt (line 17)) (0.16.8)\n",
      "Requirement already satisfied: pandas in /usr/local/lib/python3.10/dist-packages (from -r requirements.txt (line 18)) (2.2.3)\n",
      "Requirement already satisfied: bitsandbytes in /usr/local/lib/python3.10/dist-packages (from -r requirements.txt (line 19)) (0.45.5)\n",
      "Requirement already satisfied: qwen_vl_utils in /usr/local/lib/python3.10/dist-packages (from -r requirements.txt (line 20)) (0.0.11)\n",
      "Requirement already satisfied: math_verify in /usr/local/lib/python3.10/dist-packages (from -r requirements.txt (line 21)) (0.7.0)\n",
      "Requirement already satisfied: filelock in /usr/local/lib/python3.10/dist-packages (from torch==2.5.1->-r requirements.txt (line 1)) (3.9.0)\n",
      "Requirement already satisfied: typing-extensions>=4.8.0 in /usr/local/lib/python3.10/dist-packages (from torch==2.5.1->-r requirements.txt (line 1)) (4.13.2)\n",
      "Requirement already satisfied: networkx in /usr/local/lib/python3.10/dist-packages (from torch==2.5.1->-r requirements.txt (line 1)) (3.0)\n",
      "Requirement already satisfied: jinja2 in /usr/local/lib/python3.10/dist-packages (from torch==2.5.1->-r requirements.txt (line 1)) (3.1.2)\n",
      "Requirement already satisfied: fsspec in /usr/local/lib/python3.10/dist-packages (from torch==2.5.1->-r requirements.txt (line 1)) (2025.3.0)\n",
      "Requirement already satisfied: nvidia-cuda-nvrtc-cu12==12.4.127 in /usr/local/lib/python3.10/dist-packages (from torch==2.5.1->-r requirements.txt (line 1)) (12.4.127)\n",
      "Requirement already satisfied: nvidia-cuda-runtime-cu12==12.4.127 in /usr/local/lib/python3.10/dist-packages (from torch==2.5.1->-r requirements.txt (line 1)) (12.4.127)\n",
      "Requirement already satisfied: nvidia-cuda-cupti-cu12==12.4.127 in /usr/local/lib/python3.10/dist-packages (from torch==2.5.1->-r requirements.txt (line 1)) (12.4.127)\n",
      "Requirement already satisfied: nvidia-cudnn-cu12==9.1.0.70 in /usr/local/lib/python3.10/dist-packages (from torch==2.5.1->-r requirements.txt (line 1)) (9.1.0.70)\n",
      "Requirement already satisfied: nvidia-cublas-cu12==12.4.5.8 in /usr/local/lib/python3.10/dist-packages (from torch==2.5.1->-r requirements.txt (line 1)) (12.4.5.8)\n",
      "Requirement already satisfied: nvidia-cufft-cu12==11.2.1.3 in /usr/local/lib/python3.10/dist-packages (from torch==2.5.1->-r requirements.txt (line 1)) (11.2.1.3)\n",
      "Requirement already satisfied: nvidia-curand-cu12==10.3.5.147 in /usr/local/lib/python3.10/dist-packages (from torch==2.5.1->-r requirements.txt (line 1)) (10.3.5.147)\n",
      "Requirement already satisfied: nvidia-cusolver-cu12==11.6.1.9 in /usr/local/lib/python3.10/dist-packages (from torch==2.5.1->-r requirements.txt (line 1)) (11.6.1.9)\n",
      "Requirement already satisfied: nvidia-cusparse-cu12==12.3.1.170 in /usr/local/lib/python3.10/dist-packages (from torch==2.5.1->-r requirements.txt (line 1)) (12.3.1.170)\n",
      "Requirement already satisfied: nvidia-nccl-cu12==2.21.5 in /usr/local/lib/python3.10/dist-packages (from torch==2.5.1->-r requirements.txt (line 1)) (2.21.5)\n",
      "Requirement already satisfied: nvidia-nvtx-cu12==12.4.127 in /usr/local/lib/python3.10/dist-packages (from torch==2.5.1->-r requirements.txt (line 1)) (12.4.127)\n",
      "Requirement already satisfied: nvidia-nvjitlink-cu12==12.4.127 in /usr/local/lib/python3.10/dist-packages (from torch==2.5.1->-r requirements.txt (line 1)) (12.4.127)\n",
      "Requirement already satisfied: triton==3.1.0 in /usr/local/lib/python3.10/dist-packages (from torch==2.5.1->-r requirements.txt (line 1)) (3.1.0)\n",
      "Requirement already satisfied: sympy==1.13.1 in /usr/local/lib/python3.10/dist-packages (from torch==2.5.1->-r requirements.txt (line 1)) (1.13.1)\n",
      "Requirement already satisfied: huggingface-hub<1.0,>=0.30.0 in /usr/local/lib/python3.10/dist-packages (from transformers==4.51.3->-r requirements.txt (line 3)) (0.31.4)\n",
      "Requirement already satisfied: numpy>=1.17 in /usr/local/lib/python3.10/dist-packages (from transformers==4.51.3->-r requirements.txt (line 3)) (1.24.1)\n",
      "Requirement already satisfied: pyyaml>=5.1 in /usr/local/lib/python3.10/dist-packages (from transformers==4.51.3->-r requirements.txt (line 3)) (6.0.1)\n",
      "Requirement already satisfied: regex!=2019.12.17 in /usr/local/lib/python3.10/dist-packages (from transformers==4.51.3->-r requirements.txt (line 3)) (2024.11.6)\n",
      "Requirement already satisfied: requests in /usr/local/lib/python3.10/dist-packages (from transformers==4.51.3->-r requirements.txt (line 3)) (2.32.3)\n",
      "Requirement already satisfied: tokenizers<0.22,>=0.21 in /usr/local/lib/python3.10/dist-packages (from transformers==4.51.3->-r requirements.txt (line 3)) (0.21.1)\n",
      "Requirement already satisfied: safetensors>=0.4.3 in /usr/local/lib/python3.10/dist-packages (from transformers==4.51.3->-r requirements.txt (line 3)) (0.5.3)\n",
      "Requirement already satisfied: tqdm>=4.27 in /usr/local/lib/python3.10/dist-packages (from transformers==4.51.3->-r requirements.txt (line 3)) (4.67.1)\n",
      "Requirement already satisfied: psutil in /usr/local/lib/python3.10/dist-packages (from accelerate==1.2.1->-r requirements.txt (line 4)) (5.9.6)\n",
      "Requirement already satisfied: mpmath<1.4,>=1.1.0 in /usr/local/lib/python3.10/dist-packages (from sympy==1.13.1->torch==2.5.1->-r requirements.txt (line 1)) (1.3.0)\n",
      "Requirement already satisfied: pyarrow>=15.0.0 in /usr/local/lib/python3.10/dist-packages (from datasets->-r requirements.txt (line 8)) (20.0.0)\n",
      "Requirement already satisfied: dill<0.3.9,>=0.3.0 in /usr/local/lib/python3.10/dist-packages (from datasets->-r requirements.txt (line 8)) (0.3.8)\n",
      "Requirement already satisfied: xxhash in /usr/local/lib/python3.10/dist-packages (from datasets->-r requirements.txt (line 8)) (3.5.0)\n",
      "Requirement already satisfied: multiprocess<0.70.17 in /usr/local/lib/python3.10/dist-packages (from datasets->-r requirements.txt (line 8)) (0.70.16)\n",
      "Requirement already satisfied: zope.interface in /usr/local/lib/python3.10/dist-packages (from DateTime->-r requirements.txt (line 10)) (7.2)\n",
      "Requirement already satisfied: pytz in /usr/local/lib/python3.10/dist-packages (from DateTime->-r requirements.txt (line 10)) (2025.2)\n",
      "Requirement already satisfied: rich in /usr/local/lib/python3.10/dist-packages (from trl->-r requirements.txt (line 13)) (14.0.0)\n",
      "Requirement already satisfied: click!=8.0.0,>=7.1 in /usr/local/lib/python3.10/dist-packages (from wandb->-r requirements.txt (line 15)) (8.2.1)\n",
      "Requirement already satisfied: docker-pycreds>=0.4.0 in /usr/local/lib/python3.10/dist-packages (from wandb->-r requirements.txt (line 15)) (0.4.0)\n",
      "Requirement already satisfied: gitpython!=3.1.29,>=1.0.0 in /usr/local/lib/python3.10/dist-packages (from wandb->-r requirements.txt (line 15)) (3.1.44)\n",
      "Requirement already satisfied: platformdirs in /usr/local/lib/python3.10/dist-packages (from wandb->-r requirements.txt (line 15)) (3.11.0)\n",
      "Requirement already satisfied: protobuf!=4.21.0,!=5.28.0,<7,>=3.19.0 in /usr/local/lib/python3.10/dist-packages (from wandb->-r requirements.txt (line 15)) (6.31.0)\n",
      "Requirement already satisfied: pydantic<3 in /usr/local/lib/python3.10/dist-packages (from wandb->-r requirements.txt (line 15)) (2.11.4)\n",
      "Requirement already satisfied: sentry-sdk>=2.0.0 in /usr/local/lib/python3.10/dist-packages (from wandb->-r requirements.txt (line 15)) (2.29.1)\n",
      "Requirement already satisfied: setproctitle in /usr/local/lib/python3.10/dist-packages (from wandb->-r requirements.txt (line 15)) (1.3.6)\n",
      "Requirement already satisfied: setuptools in /usr/local/lib/python3.10/dist-packages (from wandb->-r requirements.txt (line 15)) (68.2.2)\n",
      "Requirement already satisfied: einops in /usr/local/lib/python3.10/dist-packages (from deepspeed->-r requirements.txt (line 17)) (0.8.1)\n",
      "Requirement already satisfied: hjson in /usr/local/lib/python3.10/dist-packages (from deepspeed->-r requirements.txt (line 17)) (3.1.0)\n",
      "Requirement already satisfied: msgpack in /usr/local/lib/python3.10/dist-packages (from deepspeed->-r requirements.txt (line 17)) (1.1.0)\n",
      "Requirement already satisfied: ninja in /usr/local/lib/python3.10/dist-packages (from deepspeed->-r requirements.txt (line 17)) (1.11.1.4)\n",
      "Requirement already satisfied: py-cpuinfo in /usr/local/lib/python3.10/dist-packages (from deepspeed->-r requirements.txt (line 17)) (9.0.0)\n",
      "Requirement already satisfied: nvidia-ml-py in /usr/local/lib/python3.10/dist-packages (from deepspeed->-r requirements.txt (line 17)) (12.575.51)\n",
      "Requirement already satisfied: python-dateutil>=2.8.2 in /usr/local/lib/python3.10/dist-packages (from pandas->-r requirements.txt (line 18)) (2.8.2)\n",
      "Requirement already satisfied: tzdata>=2022.7 in /usr/local/lib/python3.10/dist-packages (from pandas->-r requirements.txt (line 18)) (2025.2)\n",
      "Requirement already satisfied: av in /usr/local/lib/python3.10/dist-packages (from qwen_vl_utils->-r requirements.txt (line 20)) (14.4.0)\n",
      "Requirement already satisfied: latex2sympy2_extended==1.10.1 in /usr/local/lib/python3.10/dist-packages (from math_verify->-r requirements.txt (line 21)) (1.10.1)\n",
      "Requirement already satisfied: antlr4-python3-runtime<=4.13.2,>=4.9.3 in /usr/local/lib/python3.10/dist-packages (from latex2sympy2_extended==1.10.1->math_verify->-r requirements.txt (line 21)) (4.13.2)\n",
      "Requirement already satisfied: six>=1.4.0 in /usr/lib/python3/dist-packages (from docker-pycreds>=0.4.0->wandb->-r requirements.txt (line 15)) (1.16.0)\n",
      "Requirement already satisfied: aiohttp!=4.0.0a0,!=4.0.0a1 in /usr/local/lib/python3.10/dist-packages (from fsspec[http]<=2025.3.0,>=2023.1.0->datasets->-r requirements.txt (line 8)) (3.11.18)\n",
      "Requirement already satisfied: gitdb<5,>=4.0.1 in /usr/local/lib/python3.10/dist-packages (from gitpython!=3.1.29,>=1.0.0->wandb->-r requirements.txt (line 15)) (4.0.12)\n",
      "Requirement already satisfied: annotated-types>=0.6.0 in /usr/local/lib/python3.10/dist-packages (from pydantic<3->wandb->-r requirements.txt (line 15)) (0.7.0)\n",
      "Requirement already satisfied: pydantic-core==2.33.2 in /usr/local/lib/python3.10/dist-packages (from pydantic<3->wandb->-r requirements.txt (line 15)) (2.33.2)\n",
      "Requirement already satisfied: typing-inspection>=0.4.0 in /usr/local/lib/python3.10/dist-packages (from pydantic<3->wandb->-r requirements.txt (line 15)) (0.4.0)\n",
      "Requirement already satisfied: charset-normalizer<4,>=2 in /usr/local/lib/python3.10/dist-packages (from requests->transformers==4.51.3->-r requirements.txt (line 3)) (2.1.1)\n",
      "Requirement already satisfied: idna<4,>=2.5 in /usr/local/lib/python3.10/dist-packages (from requests->transformers==4.51.3->-r requirements.txt (line 3)) (3.4)\n",
      "Requirement already satisfied: urllib3<3,>=1.21.1 in /usr/local/lib/python3.10/dist-packages (from requests->transformers==4.51.3->-r requirements.txt (line 3)) (1.26.13)\n",
      "Requirement already satisfied: certifi>=2017.4.17 in /usr/local/lib/python3.10/dist-packages (from requests->transformers==4.51.3->-r requirements.txt (line 3)) (2022.12.7)\n",
      "Requirement already satisfied: MarkupSafe>=2.0 in /usr/local/lib/python3.10/dist-packages (from jinja2->torch==2.5.1->-r requirements.txt (line 1)) (2.1.2)\n",
      "Requirement already satisfied: markdown-it-py>=2.2.0 in /usr/local/lib/python3.10/dist-packages (from rich->trl->-r requirements.txt (line 13)) (3.0.0)\n",
      "Requirement already satisfied: pygments<3.0.0,>=2.13.0 in /usr/local/lib/python3.10/dist-packages (from rich->trl->-r requirements.txt (line 13)) (2.16.1)\n",
      "Requirement already satisfied: aiohappyeyeballs>=2.3.0 in /usr/local/lib/python3.10/dist-packages (from aiohttp!=4.0.0a0,!=4.0.0a1->fsspec[http]<=2025.3.0,>=2023.1.0->datasets->-r requirements.txt (line 8)) (2.6.1)\n",
      "Requirement already satisfied: aiosignal>=1.1.2 in /usr/local/lib/python3.10/dist-packages (from aiohttp!=4.0.0a0,!=4.0.0a1->fsspec[http]<=2025.3.0,>=2023.1.0->datasets->-r requirements.txt (line 8)) (1.3.2)\n",
      "Requirement already satisfied: async-timeout<6.0,>=4.0 in /usr/local/lib/python3.10/dist-packages (from aiohttp!=4.0.0a0,!=4.0.0a1->fsspec[http]<=2025.3.0,>=2023.1.0->datasets->-r requirements.txt (line 8)) (5.0.1)\n",
      "Requirement already satisfied: attrs>=17.3.0 in /usr/local/lib/python3.10/dist-packages (from aiohttp!=4.0.0a0,!=4.0.0a1->fsspec[http]<=2025.3.0,>=2023.1.0->datasets->-r requirements.txt (line 8)) (23.1.0)\n",
      "Requirement already satisfied: frozenlist>=1.1.1 in /usr/local/lib/python3.10/dist-packages (from aiohttp!=4.0.0a0,!=4.0.0a1->fsspec[http]<=2025.3.0,>=2023.1.0->datasets->-r requirements.txt (line 8)) (1.6.0)\n",
      "Requirement already satisfied: multidict<7.0,>=4.5 in /usr/local/lib/python3.10/dist-packages (from aiohttp!=4.0.0a0,!=4.0.0a1->fsspec[http]<=2025.3.0,>=2023.1.0->datasets->-r requirements.txt (line 8)) (6.4.4)\n",
      "Requirement already satisfied: propcache>=0.2.0 in /usr/local/lib/python3.10/dist-packages (from aiohttp!=4.0.0a0,!=4.0.0a1->fsspec[http]<=2025.3.0,>=2023.1.0->datasets->-r requirements.txt (line 8)) (0.3.1)\n",
      "Requirement already satisfied: yarl<2.0,>=1.17.0 in /usr/local/lib/python3.10/dist-packages (from aiohttp!=4.0.0a0,!=4.0.0a1->fsspec[http]<=2025.3.0,>=2023.1.0->datasets->-r requirements.txt (line 8)) (1.20.0)\n",
      "Requirement already satisfied: smmap<6,>=3.0.1 in /usr/local/lib/python3.10/dist-packages (from gitdb<5,>=4.0.1->gitpython!=3.1.29,>=1.0.0->wandb->-r requirements.txt (line 15)) (5.0.2)\n",
      "Requirement already satisfied: mdurl~=0.1 in /usr/local/lib/python3.10/dist-packages (from markdown-it-py>=2.2.0->rich->trl->-r requirements.txt (line 13)) (0.1.2)\n",
      "Downloading transformers-4.51.3-py3-none-any.whl (10.4 MB)\n",
      "\u001b[2K   \u001b[90m━━━━━━━━━━━━━━━━━━━━━━━━━━━━━━━━━━━━━━━━\u001b[0m \u001b[32m10.4/10.4 MB\u001b[0m \u001b[31m91.9 MB/s\u001b[0m eta \u001b[36m0:00:00\u001b[0m \u001b[36m0:00:01\u001b[0mm\n",
      "\u001b[?25hInstalling collected packages: transformers\n",
      "  Attempting uninstall: transformers\n",
      "    Found existing installation: transformers 4.49.0.dev0\n",
      "    Uninstalling transformers-4.49.0.dev0:\n",
      "      Successfully uninstalled transformers-4.49.0.dev0\n",
      "Successfully installed transformers-4.51.3\n",
      "\u001b[33mWARNING: Running pip as the 'root' user can result in broken permissions and conflicting behaviour with the system package manager. It is recommended to use a virtual environment instead: https://pip.pypa.io/warnings/venv\u001b[0m\u001b[33m\n",
      "\u001b[0m\n",
      "\u001b[1m[\u001b[0m\u001b[34;49mnotice\u001b[0m\u001b[1;39;49m]\u001b[0m\u001b[39;49m A new release of pip is available: \u001b[0m\u001b[31;49m23.3.1\u001b[0m\u001b[39;49m -> \u001b[0m\u001b[32;49m25.1.1\u001b[0m\n",
      "\u001b[1m[\u001b[0m\u001b[34;49mnotice\u001b[0m\u001b[1;39;49m]\u001b[0m\u001b[39;49m To update, run: \u001b[0m\u001b[32;49mpython -m pip install --upgrade pip\u001b[0m\n"
     ]
    }
   ],
   "source": [
    "!pip install -r requirements.txt"
   ]
  },
  {
   "cell_type": "code",
   "execution_count": 4,
   "metadata": {
    "scrolled": true,
    "vscode": {
     "languageId": "plaintext"
    }
   },
   "outputs": [
    {
     "name": "stdout",
     "output_type": "stream",
     "text": [
      "\u001b[33mWARNING: Running pip as the 'root' user can result in broken permissions and conflicting behaviour with the system package manager. It is recommended to use a virtual environment instead: https://pip.pypa.io/warnings/venv\u001b[0m\u001b[33m\n",
      "\u001b[0m\n",
      "\u001b[1m[\u001b[0m\u001b[34;49mnotice\u001b[0m\u001b[1;39;49m]\u001b[0m\u001b[39;49m A new release of pip is available: \u001b[0m\u001b[31;49m23.3.1\u001b[0m\u001b[39;49m -> \u001b[0m\u001b[32;49m25.1.1\u001b[0m\n",
      "\u001b[1m[\u001b[0m\u001b[34;49mnotice\u001b[0m\u001b[1;39;49m]\u001b[0m\u001b[39;49m To update, run: \u001b[0m\u001b[32;49mpython -m pip install --upgrade pip\u001b[0m\n"
     ]
    }
   ],
   "source": [
    "!pip install flash-attn --no-build-isolation -q"
   ]
  },
  {
   "cell_type": "code",
   "execution_count": 5,
   "metadata": {},
   "outputs": [
    {
     "name": "stderr",
     "output_type": "stream",
     "text": [
      "\u001b[34m\u001b[1mwandb\u001b[0m: Currently logged in as: \u001b[33mkevinkingslinstud\u001b[0m (\u001b[33mkevinkingslinstud-iiest-shibpur\u001b[0m) to \u001b[32mhttps://api.wandb.ai\u001b[0m. Use \u001b[1m`wandb login --relogin`\u001b[0m to force relogin\n"
     ]
    },
    {
     "data": {
      "text/plain": [
       "True"
      ]
     },
     "execution_count": 5,
     "metadata": {},
     "output_type": "execute_result"
    }
   ],
   "source": [
    "import wandb\n",
    "wandb.login()"
   ]
  },
  {
   "cell_type": "code",
   "execution_count": 6,
   "metadata": {},
   "outputs": [
    {
     "name": "stdout",
     "output_type": "stream",
     "text": [
      "env: WANDB_PROJECT=grpo\n"
     ]
    }
   ],
   "source": [
    "%env WANDB_PROJECT=grpo"
   ]
  },
  {
   "cell_type": "code",
   "execution_count": 7,
   "metadata": {},
   "outputs": [
    {
     "name": "stdout",
     "output_type": "stream",
     "text": [
      "env: TORCH_LOAD_WEIGHTS_ONLY=False\n"
     ]
    }
   ],
   "source": [
    "%env TORCH_LOAD_WEIGHTS_ONLY=False"
   ]
  },
  {
   "cell_type": "code",
   "execution_count": null,
   "metadata": {
    "vscode": {
     "languageId": "plaintext"
    }
   },
   "outputs": [
    {
     "name": "stdout",
     "output_type": "stream",
     "text": [
      "[2025-05-21 16:43:51,837] [INFO] [real_accelerator.py:239:get_accelerator] Setting ds_accelerator to cuda (auto detect)\n",
      "[2025-05-21 16:43:57,112] [INFO] [real_accelerator.py:239:get_accelerator] Setting ds_accelerator to cuda (auto detect)\n",
      "[2025-05-21 16:43:59,974] [INFO] [comm.py:669:init_distributed] cdb=None\n",
      "[2025-05-21 16:43:59,974] [INFO] [comm.py:700:init_distributed] Initializing TorchBackend in DeepSpeed with backend nccl\n",
      "reward_funcs: [<function Qwen2VLModule.preference_reward_func at 0x7fc429d50160>, <function Qwen2VLModule.format_reward_func at 0x7fc429d500d0>]\n",
      "has image in dataset\n",
      "Model:  Qwen/Qwen2-VL-2B-Instruct\n",
      "You are attempting to use Flash Attention 2.0 with a model not initialized on GPU. Make sure to move the model to GPU after initializing it on CPU with `model.to('cuda')`.\n",
      "Loading checkpoint shards: 100%|██████████████████| 2/2 [00:00<00:00,  9.39it/s]\n",
      "Applying LoRA...\n",
      "/usr/local/lib/python3.10/dist-packages/peft/mapping_func.py:73: UserWarning: You are trying to modify a model with PEFT for a second time. If you want to reload the model with a different config, make sure to call `.unload()` before.\n",
      "  warnings.warn(\n",
      "/usr/local/lib/python3.10/dist-packages/peft/tuners/tuners_utils.py:167: UserWarning: Already found a `peft_config` attribute in the model. This will lead to having multiple adapters in the model. Make sure to know what you are doing!\n",
      "  warnings.warn(\n",
      "/usr/local/lib/python3.10/dist-packages/peft/tuners/tuners_utils.py:550: UserWarning: Model with `tie_word_embeddings=True` and the tied_target_modules=['base_model.model.lm_head'] are part of the adapter. This can lead to complications, for example when merging the adapter or converting your model to formats other than safetensors. See for example https://github.com/huggingface/peft/issues/2018.\n",
      "  warnings.warn(\n",
      "Total trainable parameters: 22864384\n",
      "/workspace/grpo_trainer.py:389: UserWarning: Setting max_prompt_length is currently not supported, it has been set to None\n",
      "  warnings.warn(\"Setting max_prompt_length is currently not supported, it has been set to None\")\n",
      "No label_names provided for model class `PeftModelForCausalLM`. Since `PeftModel` hides base models input arguments, if label_names is not given, label_names can't be set automatically within `Trainer`. Note that empty label_names list will be used instead.\n",
      "\u001b[34m\u001b[1mwandb\u001b[0m: Currently logged in as: \u001b[33mkevinkingslinstud\u001b[0m (\u001b[33mkevinkingslinstud-iiest-shibpur\u001b[0m) to \u001b[32mhttps://api.wandb.ai\u001b[0m. Use \u001b[1m`wandb login --relogin`\u001b[0m to force relogin\n",
      "\u001b[34m\u001b[1mwandb\u001b[0m: Tracking run with wandb version 0.19.11\n",
      "\u001b[34m\u001b[1mwandb\u001b[0m: Run data is saved locally in \u001b[35m\u001b[1m/workspace/wandb/run-20250521_164411-2up5b25i\u001b[0m\n",
      "\u001b[34m\u001b[1mwandb\u001b[0m: Run \u001b[1m`wandb offline`\u001b[0m to turn off syncing.\n",
      "\u001b[34m\u001b[1mwandb\u001b[0m: Syncing run \u001b[33mQwen-2B_v5\u001b[0m\n",
      "\u001b[34m\u001b[1mwandb\u001b[0m: ⭐️ View project at \u001b[34m\u001b[4mhttps://wandb.ai/kevinkingslinstud-iiest-shibpur/grpo\u001b[0m\n",
      "\u001b[34m\u001b[1mwandb\u001b[0m: 🚀 View run at \u001b[34m\u001b[4mhttps://wandb.ai/kevinkingslinstud-iiest-shibpur/grpo/runs/2up5b25i\u001b[0m\n",
      "{'loss': 0.0057, 'grad_norm': 1.3701425790786743, 'learning_rate': 1.9523506435637817e-05, 'completion_length': 360.75, 'rewards/preference_reward_func': 0.20000000298023224, 'rewards/format_reward_func': 1.125, 'reward': 1.3250000476837158, 'reward_std': 0.1767767369747162, 'kl': 0.57421875, 'clip_ratio': 0.0, 'epoch': 0.23}\n",
      "{'loss': 0.0053, 'grad_norm': 1.296237587928772, 'learning_rate': 1.9519717734367274e-05, 'completion_length': 353.25, 'rewards/preference_reward_func': 0.10000000149011612, 'rewards/format_reward_func': 1.2000000476837158, 'reward': 1.2999999523162842, 'reward_std': 0.1414213478565216, 'kl': 0.53125, 'clip_ratio': 0.0, 'epoch': 0.23}\n",
      " 12%|████▋                                   | 302/2584 [01:24<12:49,  2.97it/s]<think>\\n1. Alignment: Image 1 aligns better with the prompt as it presents Matthew McConaughey as Shrek, an ogre with detailed green ear-tips and body, showcasing his face in intricate detail.\\nScore: Prefer image 1\\n2. Object and Scene Correctness: Image 1 has a scene of Matthew McConaughey dressed in a green leather-like suit with green body underneath with a green background showing leaves and grass, suggesting a natural and fantasy setting.\\nScore: Prefer image 1\\n\\nScore: Prefer image 1\\n3. Photorealism / Image Quality: Both images are photorealistic in their representations, image 1 in a full face shot and image 2 in a close up torso shot, but the image quality of image 1 is slightly better due to its brighter lighting with a green suit in focus.\\nScore: Prefer image 1\\n4. Aesthetic Appeal: Image 1 has a very aesthetic aesthetic with a dark green and brownish black color shade of the suit which adds to the fantasy and mysterious vibe of the image. Image 2 is more aesthetic in its top body close up which is very aesthetic with a vibrant brownish green and black aesthetic that is fitting for a body and no face.\\nScore: Prefer image 1\\n5. Creativity / Originality: Image 2 seems to be a unique and original version of Shrek in comic style with a large green body and ogre ears with green horns. Image 1 is also creative in its natural and fantasy setting with a green leather suit and a fantasy environment.\\nScore: Prefer image 2\\n\\npreference: 2\\n</think>\\n<preference: 2</preference>\n",
      "{'loss': 0.0064, 'grad_norm': 1.1597152948379517, 'learning_rate': 1.9515914400866022e-05, 'completion_length': 351.25, 'rewards/preference_reward_func': -0.10000000149011612, 'rewards/format_reward_func': 0.9750000238418579, 'reward': 0.8750000596046448, 'reward_std': 0.176776722073555, 'kl': 0.640625, 'clip_ratio': 0.0, 'epoch': 0.23}\n",
      "{'loss': 0.005, 'grad_norm': 1.4979177713394165, 'learning_rate': 1.9512096440979953e-05, 'completion_length': 348.5, 'rewards/preference_reward_func': 0.02499999850988388, 'rewards/format_reward_func': 1.125, 'reward': 1.149999976158142, 'reward_std': 0.4242640733718872, 'kl': 0.5, 'clip_ratio': 0.0, 'epoch': 0.24}\n",
      "{'loss': 0.0054, 'grad_norm': 1.3010061979293823, 'learning_rate': 1.9508263860577444e-05, 'completion_length': 361.0, 'rewards/preference_reward_func': 0.2750000059604645, 'rewards/format_reward_func': 1.2000000476837158, 'reward': 1.475000023841858, 'reward_std': 0.1767767071723938, 'kl': 0.5390625, 'clip_ratio': 0.0, 'epoch': 0.24}\n",
      "{'loss': 0.0051, 'grad_norm': 1.2878769636154175, 'learning_rate': 1.9504416665549338e-05, 'completion_length': 380.5, 'rewards/preference_reward_func': 0.15000000596046448, 'rewards/format_reward_func': 1.0499999523162842, 'reward': 1.2000000476837158, 'reward_std': 0.1414213478565216, 'kl': 0.5078125, 'clip_ratio': 0.0, 'epoch': 0.24}\n",
      "{'loss': 0.0061, 'grad_norm': 1.2133097648620605, 'learning_rate': 1.9500554861808948e-05, 'completion_length': 330.75, 'rewards/preference_reward_func': 0.04999999701976776, 'rewards/format_reward_func': 1.2000000476837158, 'reward': 1.25, 'reward_std': 0.6363961100578308, 'kl': 0.609375, 'clip_ratio': 0.0, 'epoch': 0.24}\n",
      "{'loss': 0.0049, 'grad_norm': 1.263479232788086, 'learning_rate': 1.949667845529204e-05, 'completion_length': 361.75, 'rewards/preference_reward_func': -0.15000000596046448, 'rewards/format_reward_func': 1.2000000476837158, 'reward': 1.0500000715255737, 'reward_std': 0.3535533845424652, 'kl': 0.490234375, 'clip_ratio': 0.0, 'epoch': 0.24}\n",
      "{'loss': 0.0045, 'grad_norm': 1.4180909395217896, 'learning_rate': 1.949278745195682e-05, 'completion_length': 387.25, 'rewards/preference_reward_func': -0.10000000149011612, 'rewards/format_reward_func': 0.7999999523162842, 'reward': 0.7000000476837158, 'reward_std': 0.4242640733718872, 'kl': 0.45703125, 'clip_ratio': 0.0, 'epoch': 0.24}\n",
      "{'loss': 0.005, 'grad_norm': 1.3606712818145752, 'learning_rate': 1.9488881857783934e-05, 'completion_length': 340.5, 'rewards/preference_reward_func': -0.20000000298023224, 'rewards/format_reward_func': 0.8499999642372131, 'reward': 0.6499999761581421, 'reward_std': 0.212132066488266, 'kl': 0.49609375, 'clip_ratio': 0.0, 'epoch': 0.24}\n",
      "{'loss': 0.0054, 'grad_norm': 1.4479598999023438, 'learning_rate': 1.948496167877646e-05, 'completion_length': 336.5, 'rewards/preference_reward_func': -0.04999999701976776, 'rewards/format_reward_func': 1.0, 'reward': 0.949999988079071, 'reward_std': 0.7778174877166748, 'kl': 0.54296875, 'clip_ratio': 0.0, 'epoch': 0.24}\n",
      "{'loss': 0.0053, 'grad_norm': 1.321753978729248, 'learning_rate': 1.9481026920959882e-05, 'completion_length': 393.25, 'rewards/preference_reward_func': 0.17500001192092896, 'rewards/format_reward_func': 1.125, 'reward': 1.2999999523162842, 'reward_std': 0.3535534143447876, 'kl': 0.53125, 'clip_ratio': 0.0, 'epoch': 0.24}\n",
      "{'loss': 0.0056, 'grad_norm': 0.8840740323066711, 'learning_rate': 1.94770775903821e-05, 'completion_length': 338.5, 'rewards/preference_reward_func': 0.125, 'rewards/format_reward_func': 1.125, 'reward': 1.25, 'reward_std': 0.2828427255153656, 'kl': 0.5625, 'clip_ratio': 0.0, 'epoch': 0.24}\n",
      "{'loss': 0.0049, 'grad_norm': 1.3180114030838013, 'learning_rate': 1.9473113693113414e-05, 'completion_length': 331.5, 'rewards/preference_reward_func': 0.20000000298023224, 'rewards/format_reward_func': 1.125, 'reward': 1.3250000476837158, 'reward_std': 0.1767767369747162, 'kl': 0.48828125, 'clip_ratio': 0.0, 'epoch': 0.24}\n",
      "{'loss': 0.0063, 'grad_norm': 1.3849730491638184, 'learning_rate': 1.9469135235246503e-05, 'completion_length': 382.25, 'rewards/preference_reward_func': 0.15000000596046448, 'rewards/format_reward_func': 1.125, 'reward': 1.2750000953674316, 'reward_std': 0.3181980848312378, 'kl': 0.6328125, 'clip_ratio': 0.0, 'epoch': 0.24}\n",
      "{'loss': 0.0052, 'grad_norm': 1.6965956687927246, 'learning_rate': 1.946514222289644e-05, 'completion_length': 270.0, 'rewards/preference_reward_func': 0.05000000074505806, 'rewards/format_reward_func': 1.0250000953674316, 'reward': 1.0750000476837158, 'reward_std': 0.3181980848312378, 'kl': 0.5234375, 'clip_ratio': 0.0, 'epoch': 0.24}\n",
      "{'loss': 0.0053, 'grad_norm': 0.8426219820976257, 'learning_rate': 1.9461134662200667e-05, 'completion_length': 329.0, 'rewards/preference_reward_func': 0.375, 'rewards/format_reward_func': 1.2000000476837158, 'reward': 1.5750000476837158, 'reward_std': 0.0353553481400013, 'kl': 0.52734375, 'clip_ratio': 0.0, 'epoch': 0.25}\n",
      "{'loss': 0.0058, 'grad_norm': 1.3496114015579224, 'learning_rate': 1.945711255931898e-05, 'completion_length': 330.25, 'rewards/preference_reward_func': 0.02499999850988388, 'rewards/format_reward_func': 1.125, 'reward': 1.149999976158142, 'reward_std': 0.4242641031742096, 'kl': 0.5859375, 'clip_ratio': 0.0, 'epoch': 0.25}\n",
      "{'loss': 0.0053, 'grad_norm': 1.017846941947937, 'learning_rate': 1.9453075920433523e-05, 'completion_length': 416.0, 'rewards/preference_reward_func': 0.3500000238418579, 'rewards/format_reward_func': 1.100000023841858, 'reward': 1.4500000476837158, 'reward_std': 0.0707106962800026, 'kl': 0.53125, 'clip_ratio': 0.0, 'epoch': 0.25}\n",
      "{'loss': 0.0046, 'grad_norm': 1.2266056537628174, 'learning_rate': 1.94490247517488e-05, 'completion_length': 365.75, 'rewards/preference_reward_func': 0.1249999925494194, 'rewards/format_reward_func': 1.2000000476837158, 'reward': 1.3250000476837158, 'reward_std': 0.459619402885437, 'kl': 0.458984375, 'clip_ratio': 0.0, 'epoch': 0.25}\n",
      "{'loss': 0.0049, 'grad_norm': 1.320876121520996, 'learning_rate': 1.9444959059491636e-05, 'completion_length': 341.5, 'rewards/preference_reward_func': 0.02500000037252903, 'rewards/format_reward_func': 1.125, 'reward': 1.149999976158142, 'reward_std': 0.1414213925600052, 'kl': 0.48828125, 'clip_ratio': 0.0, 'epoch': 0.25}\n",
      "{'loss': 0.0053, 'grad_norm': 1.2941324710845947, 'learning_rate': 1.944087884991118e-05, 'completion_length': 363.75, 'rewards/preference_reward_func': -0.125, 'rewards/format_reward_func': 1.2000000476837158, 'reward': 1.0750000476837158, 'reward_std': 0.3889086842536926, 'kl': 0.53125, 'clip_ratio': 0.0, 'epoch': 0.25}\n",
      "{'loss': 0.0054, 'grad_norm': 1.4566749334335327, 'learning_rate': 1.9436784129278894e-05, 'completion_length': 339.25, 'rewards/preference_reward_func': -0.07500000298023224, 'rewards/format_reward_func': 0.8750000596046448, 'reward': 0.8000000715255737, 'reward_std': 0.6363961100578308, 'kl': 0.5390625, 'clip_ratio': 0.0, 'epoch': 0.25}\n",
      "{'loss': 0.0064, 'grad_norm': 1.5459849834442139, 'learning_rate': 1.943267490388855e-05, 'completion_length': 254.75, 'rewards/preference_reward_func': -0.07500000298023224, 'rewards/format_reward_func': 1.2000000476837158, 'reward': 1.125, 'reward_std': 0.1767766922712326, 'kl': 0.64453125, 'clip_ratio': 0.0, 'epoch': 0.25}\n",
      "{'loss': 0.0052, 'grad_norm': 1.0144976377487183, 'learning_rate': 1.9428551180056204e-05, 'completion_length': 377.0, 'rewards/preference_reward_func': 0.125, 'rewards/format_reward_func': 1.125, 'reward': 1.25, 'reward_std': 0.2828427255153656, 'kl': 0.51953125, 'clip_ratio': 0.0, 'epoch': 0.25}\n",
      "{'loss': 0.0056, 'grad_norm': 0.9937366843223572, 'learning_rate': 1.9424412964120215e-05, 'completion_length': 286.25, 'rewards/preference_reward_func': 0.2750000059604645, 'rewards/format_reward_func': 0.949999988079071, 'reward': 1.225000023841858, 'reward_std': 0.1767766922712326, 'kl': 0.5546875, 'clip_ratio': 0.0, 'epoch': 0.25}\n",
      "{'loss': 0.0059, 'grad_norm': 0.9877885580062866, 'learning_rate': 1.9420260262441193e-05, 'completion_length': 357.75, 'rewards/preference_reward_func': 0.2750000059604645, 'rewards/format_reward_func': 0.9000000357627869, 'reward': 1.1749999523162842, 'reward_std': 0.1767766773700714, 'kl': 0.5859375, 'clip_ratio': 0.0, 'epoch': 0.25}\n",
      "{'loss': 0.0057, 'grad_norm': 1.4712789058685303, 'learning_rate': 1.9416093081402034e-05, 'completion_length': 284.5, 'rewards/preference_reward_func': 0.10000000149011612, 'rewards/format_reward_func': 1.2000000476837158, 'reward': 1.3000000715255737, 'reward_std': 0.4242640435695648, 'kl': 0.56640625, 'clip_ratio': 0.0, 'epoch': 0.25}\n",
      "{'loss': 0.0053, 'grad_norm': 1.0454685688018799, 'learning_rate': 1.9411911427407878e-05, 'completion_length': 349.0, 'rewards/preference_reward_func': 0.02500000037252903, 'rewards/format_reward_func': 1.2000000476837158, 'reward': 1.225000023841858, 'reward_std': 0.0353553481400013, 'kl': 0.53515625, 'clip_ratio': 0.0, 'epoch': 0.25}\n",
      "{'loss': 0.0056, 'grad_norm': 1.1467329263687134, 'learning_rate': 1.9407715306886113e-05, 'completion_length': 373.0, 'rewards/preference_reward_func': 0.15000000596046448, 'rewards/format_reward_func': 1.0499999523162842, 'reward': 1.2000000476837158, 'reward_std': 0.2121320366859436, 'kl': 0.55859375, 'clip_ratio': 0.0, 'epoch': 0.26}\n",
      "{'loss': 0.0052, 'grad_norm': 1.445743441581726, 'learning_rate': 1.9403504726286367e-05, 'completion_length': 305.75, 'rewards/preference_reward_func': 0.22499999403953552, 'rewards/format_reward_func': 0.8749999403953552, 'reward': 1.0999999046325684, 'reward_std': 0.2121320366859436, 'kl': 0.515625, 'clip_ratio': 0.0, 'epoch': 0.26}\n",
      "{'loss': 0.0056, 'grad_norm': 1.3108831644058228, 'learning_rate': 1.9399279692080485e-05, 'completion_length': 366.5, 'rewards/preference_reward_func': 0.10000000149011612, 'rewards/format_reward_func': 0.9750000238418579, 'reward': 1.0750000476837158, 'reward_std': 0.2474873960018158, 'kl': 0.55859375, 'clip_ratio': 0.0, 'epoch': 0.26}\n",
      "{'loss': 0.0046, 'grad_norm': 1.2576634883880615, 'learning_rate': 1.939504021076254e-05, 'completion_length': 366.25, 'rewards/preference_reward_func': 0.07500000298023224, 'rewards/format_reward_func': 1.2000000476837158, 'reward': 1.2750000953674316, 'reward_std': 0.3889087438583374, 'kl': 0.462890625, 'clip_ratio': 0.0, 'epoch': 0.26}\n",
      " 13%|████▊                                | 333/2584 [25:09<27:55:51, 44.67s/it]<think>\\n1. Alignment: Both images align well with the prompt, but image 2 is specifically set in the city of Venice, with traditional gondolas and a small bridge over a Venetian canal. In image 1, the canals and bridge are also Venice-inspired, but the buildings around them are more city-like with a modern aesthetic.\\nScore: Prefer image 2\\n\\n2. Object and Scene Correctness: Image 2 has a more fitting object of traditional Venetian gondola scene. Image 1 also has gondolas, but they are quite unobtrusive due to the blue fabric over the black gondola. Image 1 has a very fitting Venetian bridge, like the typical ones from Venetian streets.\\nScore: Prefer image 2\\n\\n3. Photorealism / Image Quality: The image quality of both pictures is very high. In image 2, the buildings are very photorealistic. However, in image 1, the green foliage on the wooden railings around each house adds a nice natural element to the image quality.\\nScore: Prefer image 1\\n\\n4. Aesthetic Appeal: Image 1 has a nice aesthetic of an atmospheric Venice scene with a blue gondola with red and yellow decor floating under a small Venetian bridge with pretty green foliage around the houses. Image 2 has a very aesthetic venetian city aesthetic with an orange house with a bridge through brown cypress trees.\\nScore: Prefer image 1\\n\\n5. Creativity / Originality: Both images have their own unique creative appeal of venetian aesthetic that is very hard to explain but can be appreciated in a personal way.\\nScore: Prefer image 2\\n\\n</think>\\n\\n<preference>2</preset>\n",
      "{'loss': 0.0047, 'grad_norm': 1.2874139547348022, 'learning_rate': 1.9390786288848795e-05, 'completion_length': 370.0, 'rewards/preference_reward_func': 0.20000000298023224, 'rewards/format_reward_func': 0.824999988079071, 'reward': 1.0250000953674316, 'reward_std': 0.459619402885437, 'kl': 0.466796875, 'clip_ratio': 0.0, 'epoch': 0.26}\n",
      "{'loss': 0.0052, 'grad_norm': 1.3593955039978027, 'learning_rate': 1.9386517932877725e-05, 'completion_length': 364.75, 'rewards/preference_reward_func': -0.04999999701976776, 'rewards/format_reward_func': 1.0250000953674316, 'reward': 0.9750000238418579, 'reward_std': 0.3889087438583374, 'kl': 0.515625, 'clip_ratio': 0.0, 'epoch': 0.26}\n",
      "{'loss': 0.0047, 'grad_norm': 1.336333155632019, 'learning_rate': 1.938223514940998e-05, 'completion_length': 350.5, 'rewards/preference_reward_func': -0.05000000447034836, 'rewards/format_reward_func': 1.2000000476837158, 'reward': 1.1500000953674316, 'reward_std': 0.4949747323989868, 'kl': 0.470703125, 'clip_ratio': 0.0, 'epoch': 0.26}\n",
      "{'loss': 0.0043, 'grad_norm': 1.142802357673645, 'learning_rate': 1.937793794502839e-05, 'completion_length': 409.75, 'rewards/preference_reward_func': 0.02499999850988388, 'rewards/format_reward_func': 1.2000000476837158, 'reward': 1.225000023841858, 'reward_std': 0.318198025226593, 'kl': 0.435546875, 'clip_ratio': 0.0, 'epoch': 0.26}\n",
      "{'loss': 0.0047, 'grad_norm': 1.248582124710083, 'learning_rate': 1.9373626326337947e-05, 'completion_length': 473.75, 'rewards/preference_reward_func': 0.02499999850988388, 'rewards/format_reward_func': 1.0250000953674316, 'reward': 1.0499999523162842, 'reward_std': 0.2121320366859436, 'kl': 0.46875, 'clip_ratio': 0.0, 'epoch': 0.26}\n",
      " 13%|████▊                                | 338/2584 [29:27<33:05:15, 53.03s/it]<think>\\n1. Alignment: Both images align well with the prompt, but in a unique and creative way. Image 2 has a backshot of Valerian and Laureline facing off at the end of a long road, creating a dramatic scene in a futuristic desert landscape. Image 1, while a frontshot, creates a dramatic mood with red glowing lights and a cosmic backdrop, set up for a future epic battle scenario.\\nScore: Prefer image 2\\n\\n2. Object and Scene Correctness: Both pictures feature unique dark blue and orange armor outfits. But image 2 has a more cohesive and symmetrical design featuring a blue armor uniform complete with yellow accents. Image 1, on the other hand, has a red glowing armor with a unique, futuristic design of white and black armor pieces, set against a cosmic backdrop.\\nScore: Prefer image 2\\n\\n3. Photorealism / Image Quality: Both pictures feature excellent image quality but come from different artistic perspectives. Image 1 features a more photorealistic, digital painting image with a red glowing armor, while image 2 seems like a traditional, hand-drawn painting with yellow and blue colors.\\nScore: Prefer image 1\\n\\n4. Aesthetic Appeal: Image 2 has a very aesthetic, stylized backshot with warm pastel orange yellow skies and blue armor, set against a serene, desert landscape. Image 1 has a unique dark red armor set against a dark dark blue, futuristic, cosmic background.\\nScore: Prefer image 1\\n\\n5. Creativity / Originality: Both pictures are original and unique. Image 1 is a dark red fantasy scene with purple glowing armor and a space battle on a dark, dark blue background, while image 2 has a desert, future, starry, large road scene, which is very creative for a fantasy space theme.\\nScore: Prefer image 1\\n\\n</think>\\n\\npreference1\\n\\n<think>\\n1. Alignment: Both images align well with the prompt, but in a unique and creative way. Image 2 has a backshot of Valerian and Laureline facing off at the end of a long road, creating a dramatic scene in a futuristic desert landscape. Image 1, while a frontshot, creates a dramatic mood with red glowing lights and a cosmic backdrop, set up for a future epic battle scenario.\\nScore: Prefer image 2\\n\\n2. Object and Scene Correctness: Both pictures feature unique dark blue and orange armor outfits. But image 2 has a more cohesive and symmetrical design featuring a blue armor uniform complete with yellow accents. Image 1, on the other hand, has a red glowing armor with a unique, futuristic design of white and black armor pieces, set against a cosmic backdrop.\\nScore: Prefer image 1\\n\\n3. Photorealism / Image Quality: Both pictures feature excellent image quality but come from different artistic perspectives. Image 1 features a more photorealistic, digital painting image with a red glowing armor, while image 2 seems like a traditional, hand-drawn painting with yellow and blue colors.\\nScore: Prefer image 1\\n\\n4. Aesthetic Appeal: Image 2 has a very aesthetic, stylized backshot with warm pastel orange yellow skies and blue armor, set against a serene, desert landscape. Image 1 has a unique dark red armor set against a dark dark blue, futuristic, cosmic background.\\nScore: Prefer image 1\\n\\n5. Creativity / Originality: Both pictures are original and unique. Image 1 is a dark red fantasy scene with purple glowing armor and a space battle on a dark, dark blue background, while image 2 has a desert, future, starry, large road scene, which is very creative for a fantasy space theme.\\nScore: Prefer image 1\\n\\n</think>\\n\\npreference2\\n\"Dark red in the depths of space\" by Valerian.\n",
      "{'loss': 0.0053, 'grad_norm': 1.2113741636276245, 'learning_rate': 1.9369300299965806e-05, 'completion_length': 494.75, 'rewards/preference_reward_func': 0.15000000596046448, 'rewards/format_reward_func': 0.8249999284744263, 'reward': 0.9750000238418579, 'reward_std': 0.24748733639717102, 'kl': 0.53125, 'clip_ratio': 0.0, 'epoch': 0.26}\n",
      "{'loss': 0.0056, 'grad_norm': 1.4078108072280884, 'learning_rate': 1.9364959872561263e-05, 'completion_length': 411.5, 'rewards/preference_reward_func': -0.07500000298023224, 'rewards/format_reward_func': 1.125, 'reward': 1.0499999523162842, 'reward_std': 0.2121320366859436, 'kl': 0.5625, 'clip_ratio': 0.0, 'epoch': 0.26}\n",
      "{'loss': 0.0056, 'grad_norm': 1.4277573823928833, 'learning_rate': 1.9360605050795742e-05, 'completion_length': 351.0, 'rewards/preference_reward_func': 0.22500000894069672, 'rewards/format_reward_func': 1.125, 'reward': 1.350000023841858, 'reward_std': 0.14142130315303802, 'kl': 0.55859375, 'clip_ratio': 0.0, 'epoch': 0.26}\n",
      "{'loss': 0.0056, 'grad_norm': 1.2718333005905151, 'learning_rate': 1.9356235841362802e-05, 'completion_length': 474.0, 'rewards/preference_reward_func': -0.20000000298023224, 'rewards/format_reward_func': 0.75, 'reward': 0.5500000715255737, 'reward_std': 0.35355344414711, 'kl': 0.5625, 'clip_ratio': 0.0, 'epoch': 0.26}\n",
      "{'loss': 0.005, 'grad_norm': 0.9177643656730652, 'learning_rate': 1.9351852250978114e-05, 'completion_length': 404.0, 'rewards/preference_reward_func': 0.17500001192092896, 'rewards/format_reward_func': 0.949999988079071, 'reward': 1.125, 'reward_std': 0.0353553481400013, 'kl': 0.49609375, 'clip_ratio': 0.0, 'epoch': 0.27}\n",
      "{'loss': 0.0054, 'grad_norm': 1.4121800661087036, 'learning_rate': 1.9347454286379452e-05, 'completion_length': 379.25, 'rewards/preference_reward_func': 0.15000000596046448, 'rewards/format_reward_func': 1.2000000476837158, 'reward': 1.350000023841858, 'reward_std': 0.2121320366859436, 'kl': 0.5390625, 'clip_ratio': 0.0, 'epoch': 0.27}\n",
      "{'loss': 0.0054, 'grad_norm': 0.9139736294746399, 'learning_rate': 1.934304195432668e-05, 'completion_length': 456.25, 'rewards/preference_reward_func': 0.02499999850988388, 'rewards/format_reward_func': 0.7999999523162842, 'reward': 0.824999988079071, 'reward_std': 0.1767767071723938, 'kl': 0.53125, 'clip_ratio': 0.0, 'epoch': 0.27}\n",
      "{'loss': 0.0051, 'grad_norm': 1.3192168474197388, 'learning_rate': 1.9338615261601754e-05, 'completion_length': 439.5, 'rewards/preference_reward_func': 0.20000000298023224, 'rewards/format_reward_func': 1.125, 'reward': 1.3250000476837158, 'reward_std': 0.3889087438583374, 'kl': 0.51171875, 'clip_ratio': 0.0, 'epoch': 0.27}\n",
      "{'loss': 0.0049, 'grad_norm': 0.9278692603111267, 'learning_rate': 1.9334174215008693e-05, 'completion_length': 321.0, 'rewards/preference_reward_func': 0.2750000059604645, 'rewards/format_reward_func': 1.2000000476837158, 'reward': 1.475000023841858, 'reward_std': 0.3181980550289154, 'kl': 0.494140625, 'clip_ratio': 0.0, 'epoch': 0.27}\n",
      "{'loss': 0.0062, 'grad_norm': 1.3924601078033447, 'learning_rate': 1.932971882137359e-05, 'completion_length': 345.75, 'rewards/preference_reward_func': 0.07500000298023224, 'rewards/format_reward_func': 1.2000000476837158, 'reward': 1.2750000953674316, 'reward_std': 0.3889087438583374, 'kl': 0.6171875, 'clip_ratio': 0.0, 'epoch': 0.27}\n",
      "{'loss': 0.0156, 'grad_norm': 12.134482383728027, 'learning_rate': 1.932524908754458e-05, 'completion_length': 474.75, 'rewards/preference_reward_func': -0.30000001192092896, 'rewards/format_reward_func': 0.9750000238418579, 'reward': 0.675000011920929, 'reward_std': 0.4596194326877594, 'kl': 1.5546875, 'clip_ratio': 0.0, 'epoch': 0.27}\n",
      "{'loss': 0.005, 'grad_norm': 1.3768656253814697, 'learning_rate': 1.932076502039184e-05, 'completion_length': 403.25, 'rewards/preference_reward_func': 0.20000000298023224, 'rewards/format_reward_func': 1.125, 'reward': 1.3250000476837158, 'reward_std': 0.1767767369747162, 'kl': 0.49609375, 'clip_ratio': 0.0, 'epoch': 0.27}\n",
      "{'loss': 0.0059, 'grad_norm': 1.342401385307312, 'learning_rate': 1.9316266626807587e-05, 'completion_length': 343.75, 'rewards/preference_reward_func': 0.22500000894069672, 'rewards/format_reward_func': 1.2000000476837158, 'reward': 1.4249999523162842, 'reward_std': 0.10606604814529419, 'kl': 0.5859375, 'clip_ratio': 0.0, 'epoch': 0.27}\n",
      " 14%|█████                                | 351/2584 [41:27<30:25:46, 49.06s/it]<think>\\n1. Alignment: Both image 1 and image 2 both align well with the prompt in terms of the multidimensional hexagonal corridor design, which is similar in idea. However, image 2 is slightly more aligned due to its unique tesseract-shaped tunnel design and more fitting color scheme. While image 1's corridor in black and white contrast is visually striking, its tunnel on the right side seems to be cut off, partially breaking the alignment concept. In contrast, the tesseract tunnel in image 2 is complete, with a tesseract that doesn't display any defects or hexagonal design, thus maintaining alignment.\\nScore: Prefer image 2\\n\\n2. Object and Scene Correctness: Both image 1 and image 2 have unique hexagonal tunnel-like architectural designs that are visually appealing. However, image 2 has an aesthetic superiority due to its unique tesseract tunnel design that visually resembles a tesseract from the movie Interstellar. This design is highly creative and visually captivating with a tesseract that is entirely round and complete. Although image 1 has an impressive black and white hexagonal tunnel design, it is somewhat cut off at the end, which breaks the scene continuity. The tesseract in image 2 has a complete and perfect design that fits well into the scene.\\nScore: Prefer image 2\\n\\n3. Photorealism / Image Quality: Both image 1 and image 2 have impressive photorealistic architectural building designs that are visually stunning. However, the tesseract tunnel in image 2 stands out due to its unique design that is visually appealing as a perfect tesseract even though it is not round. Image 1, while visually striking in its black and white hexagonal design, is slightly cut off at the end, which damages its overall image quality.\\nScore: Prefer image 2\\n\\n4. Aesthetic Appeal: Both image 1 and image 2 both have attractive aesthetic designs that fit the escher aesthetic perfectly. However, the aesthetic of image 2 stands out due to its unique tesseract tunnel design that is visually spectacular. The tesseract is completely round, providing a sense of serenity and calmness that is fitting for an alien cave-like environment. While image 1 has a black and white aesthetic design that creates its unique hexagonal tunnel aesthetic, it is broken at the end due to the wall being cut off.\\nScore: Prefer image 2\\n\\n5. Creativity / Originality: Both image 1 and image 2 both have unique artistic design ideas. Image 1 is unique due to its tetracube design in black and white with an aesthetic unique to its design. However, image 2 stands out due to its tesseract tunnel design being the only tesseract tunnel design in this era of movie content and an attractive tesseract design. Furthermore, the tesseract in image 2 is completely perfect and round in the tesseract shape. The hexagon design of image 1 is a highly original unique design based on tesseract geometry.\\nScore: Prefer image 2\\n\\n</think>\\n\\npreference: 2\n",
      "{'loss': 0.0052, 'grad_norm': 1.2642147541046143, 'learning_rate': 1.931175391370605e-05, 'completion_length': 414.5, 'rewards/preference_reward_func': 0.125, 'rewards/format_reward_func': 0.9750000238418579, 'reward': 1.100000023841858, 'reward_std': 0.4949747323989868, 'kl': 0.515625, 'clip_ratio': 0.0, 'epoch': 0.27}\n",
      "{'loss': 0.0054, 'grad_norm': 1.2296485900878906, 'learning_rate': 1.9307226888023472e-05, 'completion_length': 392.0, 'rewards/preference_reward_func': 0.22500000894069672, 'rewards/format_reward_func': 1.2000000476837158, 'reward': 1.4249999523162842, 'reward_std': 0.3889087438583374, 'kl': 0.5390625, 'clip_ratio': 0.0, 'epoch': 0.27}\n",
      "{'loss': 0.0054, 'grad_norm': 1.402238368988037, 'learning_rate': 1.930268555671809e-05, 'completion_length': 383.5, 'rewards/preference_reward_func': 0.25, 'rewards/format_reward_func': 1.125, 'reward': 1.375, 'reward_std': 0.10606600344181061, 'kl': 0.5390625, 'clip_ratio': 0.0, 'epoch': 0.27}\n",
      "{'loss': 0.0049, 'grad_norm': 0.8606905937194824, 'learning_rate': 1.9298129926770132e-05, 'completion_length': 410.25, 'rewards/preference_reward_func': 0.17499999701976776, 'rewards/format_reward_func': 1.125, 'reward': 1.3000000715255737, 'reward_std': 0.2121320366859436, 'kl': 0.486328125, 'clip_ratio': 0.0, 'epoch': 0.27}\n",
      "{'loss': 0.0053, 'grad_norm': 1.3077328205108643, 'learning_rate': 1.929356000518181e-05, 'completion_length': 341.5, 'rewards/preference_reward_func': 0.15000000596046448, 'rewards/format_reward_func': 1.2000000476837158, 'reward': 1.350000023841858, 'reward_std': 0.4949747323989868, 'kl': 0.52734375, 'clip_ratio': 0.0, 'epoch': 0.28}\n",
      "{'loss': 0.0051, 'grad_norm': 1.2399611473083496, 'learning_rate': 1.9288975798977295e-05, 'completion_length': 406.75, 'rewards/preference_reward_func': 0.10000000149011612, 'rewards/format_reward_func': 1.2000000476837158, 'reward': 1.2999999523162842, 'reward_std': 0.2121320366859436, 'kl': 0.515625, 'clip_ratio': 0.0, 'epoch': 0.28}\n",
      "{'loss': 0.0053, 'grad_norm': 1.271453619003296, 'learning_rate': 1.9284377315202713e-05, 'completion_length': 396.25, 'rewards/preference_reward_func': 0.04999999701976776, 'rewards/format_reward_func': 1.0750000476837158, 'reward': 1.125, 'reward_std': 0.459619402885437, 'kl': 0.52734375, 'clip_ratio': 0.0, 'epoch': 0.28}\n",
      " 14%|█████▏                               | 358/2584 [47:44<32:13:01, 52.10s/it]<think>\\n1. Alignment: Image 1 has a more fitting alignment with the fantasy rpg concept of an anthropomorphically colored, lycan-like creature combining antlered lynx and coyote traits with medieval, dnd, nature spirit elements. It features a vibrant, HD-looking digital art aesthetic, standing firm within a natural, forest, road, and moonlit scene, suggesting a real-life fantasy world.\\n\\nScore: Prefer image 1\\n\\n2. Object and Scene Correctness: Both image 1 and image 2 have their unique strengths in object correctness. Image 1 has a very natural and aesthetic scene with a road surrounded by a forest with moonlight in the background. Image 2 has a creative medieval aesthetic with a very unique, artistic artwork of a dark fox with armor resembling a medieval knight with a raven on top of his hood. Both look incredible.\\nScore: Both images are preferred\\n\\n3. Photorealism / Image Quality: Both image quality is top notch. Image 1 features a very photorealistic digital art of an antlered, lycan in forest in HD quality, while image 2 features a unique artistic medieval knight figure with dark red armor and a unique black fox knight with a red hood on a black knight standing on a dark mound. Both have excellent image quality.\\nScore: Both images are preferred\\n\\n4. Aesthetic Appeal: While image 1 is quite aesthetic in a fantasy aesthetic style, image 2 is quite aesthetic in a unique, artistic medieval aesthetic. Image 2 has a cool mysterious aesthetic that suits that dark red royal knight-like figure with a unique black fox knight with a hood in a unique artistic picture.\\nScore: Prefer image 2\\n\\n5. Creativity / Originality: Image 1 has its own unique creative aesthetic for the dark lycan in the forest, but image 2 stands out for its original artistic masterpiece. Image 2 is visually unique and creative in its design that sets it apart.\\nScore: Prefer image 2\\n\\n</think>\\n\\n\\01preference{2}\\0\\n\\n\n",
      "{'loss': 0.0057, 'grad_norm': 1.3436975479125977, 'learning_rate': 1.9279764560926142e-05, 'completion_length': 420.75, 'rewards/preference_reward_func': -0.10000000149011612, 'rewards/format_reward_func': 0.9750000238418579, 'reward': 0.875, 'reward_std': 0.459619402885437, 'kl': 0.5703125, 'clip_ratio': 0.0, 'epoch': 0.28}\n",
      "{'loss': 0.005, 'grad_norm': 1.305703043937683, 'learning_rate': 1.927513754323759e-05, 'completion_length': 404.75, 'rewards/preference_reward_func': -0.07500000298023224, 'rewards/format_reward_func': 0.9000000357627869, 'reward': 0.8250000476837158, 'reward_std': 0.601040780544281, 'kl': 0.494140625, 'clip_ratio': 0.0, 'epoch': 0.28}\n",
      " 14%|█████▏                               | 360/2584 [49:26<31:40:53, 51.28s/it]"
     ]
    }
   ],
   "source": [
    "!CUDA_VISIBLE_DEVIES=0 accelerate launch --config-file accelerate_config.yaml grpo.py --config qwen2vl_config.yaml"
   ]
  },
  {
   "cell_type": "code",
   "execution_count": 21,
   "metadata": {
    "scrolled": true
   },
   "outputs": [],
   "source": [
    "wandb.finish()"
   ]
  }
 ],
 "metadata": {
  "kernelspec": {
   "display_name": "Python 3 (ipykernel)",
   "language": "python",
   "name": "python3"
  },
  "language_info": {
   "codemirror_mode": {
    "name": "ipython",
    "version": 3
   },
   "file_extension": ".py",
   "mimetype": "text/x-python",
   "name": "python",
   "nbconvert_exporter": "python",
   "pygments_lexer": "ipython3",
   "version": "3.10.12"
  }
 },
 "nbformat": 4,
 "nbformat_minor": 4
}
